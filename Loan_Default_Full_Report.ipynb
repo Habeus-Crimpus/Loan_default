{
 "cells": [
  {
   "cell_type": "markdown",
   "metadata": {},
   "source": [
    "# Loan Default Prediction Report\n",
    "---\n",
    "**Author:** Tyler Chang | **Current Version Release Date:** September 27, 2023 | [GitHub]('https://github.com/Habeus-Crimpus') | [LinkedIn]('https://www.linkedin.com/in/tylerchang/') | [Data Portfolio]('https://troopl.com/tchang343w')"
   ]
  },
  {
   "cell_type": "markdown",
   "metadata": {},
   "source": [
    "## Report Summary\n",
    "\n",
    "Based on the [Coursera loan default prediction challenge]('https://www.coursera.org/projects/data-science-coding-challenge-loan-default-prediction#details') and using data available publicly [here]('https://www.kaggle.com/datasets/nikhil1e9/loan-default'), the report covers the importing, cleaning, analysis, visualization, and ultimate modeling of over 250k rows of loan taker data. This version of the report (version 1) culminates in two models with over 92% accuracy and similarly high performance across other metrics.\n",
    "\n",
    "### Report Highlights\n",
    "\n",
    "* Approximately 11.6% of the loans cataloged default.\n",
    "* The average loan is approximately 2.18x that of the loan taker's income.\n",
    "* The baseline accuracy is approximately 88.4%.\n",
    "* XGBoosting and Random Forest models perform best across multiple metrics of classification success, beating the baseline accuracy by up to 5%."
   ]
  },
  {
   "cell_type": "markdown",
   "metadata": {},
   "source": [
    "## Preparing the Data"
   ]
  },
  {
   "cell_type": "markdown",
   "metadata": {},
   "source": [
    "This section covers the importing of all required Python libraries, the data itself, and the process of cleaning the data."
   ]
  },
  {
   "cell_type": "markdown",
   "metadata": {},
   "source": [
    "### Loading the Required Libraries"
   ]
  },
  {
   "cell_type": "code",
   "execution_count": null,
   "metadata": {},
   "outputs": [],
   "source": [
    "# data manipulation\n",
    "import numpy as np\n",
    "import pandas as pd\n",
    "\n",
    "# data visualization\n",
    "import matplotlib.pyplot as plt\n",
    "import seaborn as sns\n",
    "import plotly.express as px\n",
    "\n",
    "# "
   ]
  }
 ],
 "metadata": {
  "kernelspec": {
   "display_name": "Python 3",
   "language": "python",
   "name": "python3"
  },
  "language_info": {
   "codemirror_mode": {
    "name": "ipython",
    "version": 3
   },
   "file_extension": ".py",
   "mimetype": "text/x-python",
   "name": "python",
   "nbconvert_exporter": "python",
   "pygments_lexer": "ipython3",
   "version": "3.11.3"
  },
  "orig_nbformat": 4
 },
 "nbformat": 4,
 "nbformat_minor": 2
}
